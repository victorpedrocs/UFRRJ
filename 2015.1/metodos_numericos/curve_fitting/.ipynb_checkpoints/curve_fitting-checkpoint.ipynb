{
 "cells": [
  {
   "cell_type": "markdown",
   "metadata": {},
   "source": [
    "# Ajuste de Curvas pelo método dos Quadrados Mínimos\n"
   ]
  },
  {
   "cell_type": "markdown",
   "metadata": {
    "slideshow": {
     "slide_type": "slide"
    }
   },
   "source": [
    "\n",
    "# Introdução\n",
    "\n",
    "Utilizado quando a interpolação não é aconselhável, isto é:\n",
    "1. É preciso obter um valor aproximado da função em algum ponto fora do intervalo de tabelamento, ou seja, quando se quer extrapolar;\n",
    "1. os valores tabelados são resultados de algum experimento físico de alguma pesquisa, porque, nestes casos, estes valores poderão conter erros inerentes que, em geral, não são previsíveis.\n",
    "\n",
    "### Caso Discreto (livro)\n",
    "O problema do ajuste de curvas no caso em que temos uma tabela de pontos $(x_1, f(x_1)), (x_2, f(x_2), ..., (x_m, f(x_m))$ com $ x_1, x_2, ..., x_m$, pertencentes a um intervalo $[a,b]$, consite em : \"escolhidas m funções $g_1(x), g_2(x), ..., g_n(x)$, contínuas em $[a,b]$, obter $n$ constantes $\\alpha_1, \\alpha_2, ..., \\alpha_n$, tais que a função $\\phi(x) = \\alpha_{1}g_1(x) + \\alpha_{2}g_2(x) + \\alpha_{n}g_n(x)$ se aproxime ao máximo de $f(x)$ .\n",
    "\n",
    "Dizemos que este é um modelo matemático linear porque os coeficientes a determinar, $\\alpha_1, \\alpha_2, ..., \\alpha_n$, aparecem linearmente, embora as funções $g_1(x), g_2(x), ..., g_n(x)$ possam ser funções não lineares de $x$, como por exemplo, $g_1(x) = e^x, g_2(x) = (1+x^2)$ etc."
   ]
  },
  {
   "cell_type": "code",
   "execution_count": 2,
   "metadata": {
    "collapsed": false,
    "scrolled": true,
    "slideshow": {
     "slide_type": "slide"
    }
   },
   "outputs": [
    {
     "data": {
      "image/png": "[encoded data removed]",
      "text/plain": [
       "<matplotlib.figure.Figure at 0x108e5cb10>"
      ]
     },
     "metadata": {},
     "output_type": "display_data"
    }
   ],
   "source": [
    "%matplotlib inline\n",
    "import matplotlib.pyplot as pyplt\n",
    "import numpy as np\n",
    "from scipy import linalg\n",
    "\n",
    "# definicao dos pontos no plano cartesiano ou diagrama de dispersão\n",
    "x = [-1, -0.75, -0.6, -0.5, -0.3, 0, 0.2, 0.4, 0.5, 0.7, 1] # x\n",
    "y = [2.05, 1.153, 0.45, 0.4, 0.5, 0, 0.2, 0.6, 0.512, 1.2, 2.05] #f(x)\n",
    "\n",
    "# plot dos pontos definidos acima no formato de pontos pretos\n",
    "pyplt.plot(x,y,'ko')\n",
    "# definicao do intervalo\n",
    "pyplt.axis([-2, 2, -1, 3])\n",
    "pyplt.grid(True)"
   ]
  },
  {
   "cell_type": "markdown",
   "metadata": {},
   "source": [
    "## Método dos Quadrados Mínimos (livro)\n",
    "### Caso discreto\n",
    "\n",
    "Sejam dados os pontos $(x_1, f(x_1)), (x_2, f(x_2)), ..., (x_m, f(x_m))$ e as funções $g_1(x), g_2(x),...,g_n(x)$ escolhidas de alguma forma.\n",
    "\n",
    "Consideraremos que o número de pontos $m$, tabelados, é sempre maior ou igual a $n$ o número de funções escolhidas ou o número de coeficientes $\\alpha_i$ a se determinar.\n",
    "\n",
    "O objetivo é encontrar coeficientes $\\alpha_i$ tais que a função: $$\\phi(x) = \\sum_{i=1}^{n}{\\alpha_{i}g_i(x)}$$ se aproxime ao máximo  de $f(x)$.\n",
    "\n",
    "Seja $d_k = f(x_k) = \\phi(x_k)$ o desvio em $x_k$ desejamos que $d_k$ seja mínimo para todo $k = 1, 2, ..., m$.\n",
    "\n",
    "O método dos quadrados mínimos consiste em escolher os $\\alpha_j$ de forma que a soma dos quadrados dos desvios seja mínima. Logo, se a soma $\\sum_{k=1}^{m}d_k^2 = \\sum_{k=1}^{m}(f(x_k) - \\phi(x_k))^2$ é mínima, cada parcela $[f(x_k) - \\phi(x_k)]^2$ é pequena, de onde cada desvio $[f(x_k) - \\phi(x_k)]$ é mínimo.\n",
    "\n",
    "Portanto dentro dos quadrados mínimos, os coeficientes $\\alpha_k$ que fazem com que $\\phi(x)$ se aproxime ao máximo de $f(x)$, são os que minimizam a função\n",
    "$$F(\\alpha_1, \\alpha_2,...,\\alpha_n) = \\sum_{k=1}^{m}[f(x_k) - \\phi(x_k)]^2 = \\sum_{k=1}^{m}[f(x_k) - \\alpha_{1}g_1(x_k) - \\alpha_{2}g_2(x_k) - \\alpha_{n}g_n(x_k)]^2$$\n",
    "\n",
    "Usando Cálculo, sabemos que, para obter um ponto mínimo de uma função, temos que encontrar seus pontos críticos, ou seja,  os $(\\alpha_1, \\alpha_2, ..., \\alpha_n$  tais que\n",
    "$$\\left.\\frac{\\delta F}{\\delta \\alpha_j}  \\right | (\\alpha_1, \\alpha_2, ..., \\alpha_n) = 0, j, = 1, 2, ...,n$$\n",
    "Calculando estas derivadas parciais para cada j = 1, 2, ..., n, temos:\n",
    "$$ \\left.\\frac{\\delta F}{\\delta \\alpha_j}  \\right | (\\alpha_1, \\alpha_2, ..., \\alpha_n) = 2 \\sum_{k=1}^{m}{[f(x_k) - \\alpha_{1}g_1(x_k),...,\\alpha_{m}g_m(x_k)][-g_j(x_k)]}$$.\n",
    "Inpondo a condição\n",
    "$$ \\frac{\\delta F}{\\delta \\alpha_j} = 0, j = 1, 2, ..., n $$\n",
    "temos\n",
    "$$ \\sum_{k=1}^{m}{[f(x_k) - \\alpha_{1}g_1(x_k),...,\\alpha_{m}g_m(x_k)][-g_j(x_k)]} = 0,j = 1,2,...,n $$\n",
    "Assim, um sistema linear com n equaçõs n ingógnitas $\\alpha_1, \\alpha_2, ..., \\alpha_n$, que pode ser escrito na forma matricial como $A\\alpha = b$."
   ]
  },
  {
   "cell_type": "markdown",
   "metadata": {},
   "source": [
    "### Implementação\n",
    "\n",
    "Feito o diagrama de disperção, deve ser ajustada por uma parábola que passa pela origem, ou seja, $f(x) \\approx \\phi(x) = \\alpha x^2$. Neste caso (parábola) temos apenas uma função $g(x) = x^2$."
   ]
  },
  {
   "cell_type": "code",
   "execution_count": 3,
   "metadata": {
    "collapsed": false
   },
   "outputs": [],
   "source": [
    "def g(x):\n",
    "    return x**2\n"
   ]
  },
  {
   "cell_type": "markdown",
   "metadata": {},
   "source": [
    "Definiremos também a função somatório que efetua $ \\sum_{k=1}^{m}{g_j(x_k)g_i(x_k)} $"
   ]
  },
  {
   "cell_type": "code",
   "execution_count": 4,
   "metadata": {
    "collapsed": true
   },
   "outputs": [],
   "source": [
    "def somatorio( g_column, g_row, x_array ):\n",
    "    result = 0\n",
    "    for x in (x_array):\n",
    "        result += g_row(x)*g_column(x)\n",
    "    return result"
   ]
  },
  {
   "cell_type": "markdown",
   "metadata": {},
   "source": [
    "Também é necessário definir um somatório para $\\sum_{k=1}^{m}{f(x_k)g_n(x_k)}$"
   ]
  },
  {
   "cell_type": "code",
   "execution_count": 5,
   "metadata": {
    "collapsed": true
   },
   "outputs": [],
   "source": [
    "def somatoriof( y_array, g, x_array):\n",
    "    result = 0\n",
    "    for y, x in zip(y_array, x_array):\n",
    "        result += y*g(x)\n",
    "    return result"
   ]
  },
  {
   "cell_type": "markdown",
   "metadata": {},
   "source": [
    "Agora a função que resolve o sistema de equações"
   ]
  },
  {
   "cell_type": "code",
   "execution_count": 6,
   "metadata": {
    "collapsed": false
   },
   "outputs": [],
   "source": [
    "def square_minimum(g_array, x_array, y_array):\n",
    "    A = []\n",
    "    b = []\n",
    "    \n",
    "    for line in xrange(0,len(g_array)):\n",
    "        rowA = []\n",
    "        for column in xrange(0,len(g_array)):\n",
    "            rowA.append(somatorio(g_array[column], g_array[line], x_array))\n",
    "        \n",
    "        A.append(rowA)\n",
    "        b.append(somatoriof(y_array, g_array[line], x_array))\n",
    "    \n",
    "    return np.linalg.solve(A,b)"
   ]
  },
  {
   "cell_type": "markdown",
   "metadata": {},
   "source": [
    "Agora podemos solicitar a solução do sistema para o exemplo dado no início"
   ]
  },
  {
   "cell_type": "code",
   "execution_count": 8,
   "metadata": {
    "collapsed": false
   },
   "outputs": [
    {
     "name": "stdout",
     "output_type": "stream",
     "text": [
      "[ 2.06420377]\n"
     ]
    }
   ],
   "source": [
    "g_array = [g]\n",
    "solution = square_minimum(g_array, x, y)\n",
    "\n",
    "print solution"
   ]
  },
  {
   "cell_type": "markdown",
   "metadata": {},
   "source": [
    "Agora, com este resultado, podemos plotar a parábola com a função de resultado"
   ]
  },
  {
   "cell_type": "code",
   "execution_count": 15,
   "metadata": {
    "collapsed": false
   },
   "outputs": [
    {
     "data": {
      "image/png": "[encoded data removed]",
      "text/plain": [
       "<matplotlib.figure.Figure at 0x10a1d3b90>"
      ]
     },
     "metadata": {},
     "output_type": "display_data"
    }
   ],
   "source": [
    "xnp = np.array(x)\n",
    "equation = eval(str(solution[0])+'*xnp**2')\n",
    "\n",
    "pyplt.plot(x,y,'ko')\n",
    "pyplt.plot(x, equation)\n",
    "pyplt.axis([-1.5, 1.5, -0.5, 2.5])\n",
    "pyplt.grid(True)\n",
    "pyplt.show()"
   ]
  },
  {
   "cell_type": "markdown",
   "metadata": {},
   "source": [
    "## Referências\n",
    "* Cálculo Numérico: Aspectos Teóricos Computacionais - Vera Lucia Da Rocha Lopes; Marcia A. Gomes Ruggiero \n",
    "* [Python numpy.linalg](http://docs.scipy.org/doc/numpy/reference/routines.linalg.html)"
   ]
  }
 ],
 "metadata": {
  "kernelspec": {
   "display_name": "Python 2",
   "language": "python",
   "name": "python2"
  },
  "language_info": {
   "codemirror_mode": {
    "name": "ipython",
    "version": 2
   },
   "file_extension": ".py",
   "mimetype": "text/x-python",
   "name": "python",
   "nbconvert_exporter": "python",
   "pygments_lexer": "ipython2",
   "version": "2.7.5"
  }
 },
 "nbformat": 4,
 "nbformat_minor": 0
}
