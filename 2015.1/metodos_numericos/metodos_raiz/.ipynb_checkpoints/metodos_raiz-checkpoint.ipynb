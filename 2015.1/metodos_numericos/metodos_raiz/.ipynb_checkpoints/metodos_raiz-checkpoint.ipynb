{
 "cells": [
  {
   "cell_type": "markdown",
   "metadata": {},
   "source": [
    "# Avaliação de desempenho dos métodos\n",
    "\n",
    "## Equação Utilizada\n",
    "A capacidade calorífica $(Cp)$ do $O^2$ na faixa de temperatura entre 298 e 100 $K$, apresentada na seguinte equação, em função da temperatura\n",
    "$$ Cp(T) = 7,16 + T10^{-3} - \\frac{0,4.10^5}{T^2} $$,\n",
    "Onde $T$ está representada em $K$ e $Cp$ em $cal/mol^{o}C$.\n",
    "\n",
    "A temperatura $K$ em que a capacidade calorífica de $O^2$ é de $8,15 cal/mol^{o}C$ resulta da na função\n",
    "$$ f(T) = \\frac{-0,99+10^{-3}T– 0,4*10^5}{T^2} $$\n",
    "\n",
    "E é nesta função que utilizaremos os métodos para encontrar sua raiz e avaliar o desempenho de cada um.\n",
    "\n",
    "## Número de iterações antes de convergir para a precisão desejada\n",
    "A métrica utilizada para avaliar o desempenho das funções será o número de iterações necessárias para atingir o resutlado desejado\n",
    "\n",
    "## Machine Epsilon\n",
    "Neste trabalho, foi definida a precisão padrão para todos métodos baseada no padrão **IEEE 754-2008** para o tipo float que é a constante $5.96e-08$\n",
    "\n"
   ]
  },
  {
   "cell_type": "code",
   "execution_count": 47,
   "metadata": {
    "collapsed": false
   },
   "outputs": [
    {
     "name": "stdout",
     "output_type": "stream",
     "text": [
      "A tolerancia é igual a:  5.96e-08\n"
     ]
    },
    {
     "data": {
      "image/png": "[encoded data removed]",
      "text/plain": [
       "<matplotlib.figure.Figure at 0x10d430e90>"
      ]
     },
     "metadata": {},
     "output_type": "display_data"
    }
   ],
   "source": [
    "%matplotlib inline\n",
    "\n",
    "import numpy as np\n",
    "import matplotlib.pyplot as plt\n",
    "import math\n",
    "\n",
    "# tolerancia = np.finfo(np.float).eps\n",
    "tolerancia = 5.96*10**-8\n",
    "print \"A tolerancia é igual a: \", tolerancia\n",
    "\n",
    "f = lambda T: ((-0.99) + ( T*10**(-3) ) - (0.4*10**5)/T**2)\n",
    "x = np.arange(200., 2000, 0.2)\n",
    "y = f(x)\n",
    "plt.plot(x, y, 'b-')\n",
    "plt.grid(True)"
   ]
  },
  {
   "cell_type": "markdown",
   "metadata": {
    "slideshow": {
     "slide_type": "-"
    }
   },
   "source": [
    "# Método da Bissecção (ou de Bolzano)\n",
    "## Definição\n",
    "Dada uma função $f(x)$ contínua no intervalo $[a,b]$ onde existe uma raiz única, é possível determinar tal raiz subdividindo sucessivas vezes o intervalo que a contém pelo ponto médio de $a$ e $b$.\n",
    "\n",
    "### Gráfico da função\n",
    "Para a implementação usaremos a função $f(x) = x^3-x-1$ como exemplo.\n",
    "Como pode ser observado no gráfico, a raiz da função se encontra no intervalo entre 800 e 1200\n"
   ]
  },
  {
   "cell_type": "code",
   "execution_count": 56,
   "metadata": {
    "collapsed": false
   },
   "outputs": [
    {
     "name": "stdout",
     "output_type": "stream",
     "text": [
      "A raiz é:  1027.86092758 . O número de interações foi de  21\n"
     ]
    }
   ],
   "source": [
    "a = 800\n",
    "b = 1200\n",
    "\n",
    "def mod(x):\n",
    "    return math.sqrt(x**2)\n",
    "\n",
    "def biss(a, b, tolerancia):\n",
    "    steps = []\n",
    "    c = (a+b)/2.0\n",
    "    while mod(f(c)) > tolerancia:\n",
    "        steps.append(c)\n",
    "        if (c) == 0:\n",
    "            return c\n",
    "        elif f(a)*f(c) < 0:\n",
    "            b = c\n",
    "        else:\n",
    "            a = c\n",
    "        c = ( a + b )/2.0\n",
    "    return c, steps\n",
    "\n",
    "resultado, steps = biss(a,b,tolerancia)\n",
    "print \"A raiz é: \", resultado, \". O número de interações foi de \", len(steps)"
   ]
  },
  {
   "cell_type": "markdown",
   "metadata": {},
   "source": [
    "Podemos plotar o gráfico mostrando os passos do algoritmo até chegar no número desejado"
   ]
  },
  {
   "cell_type": "code",
   "execution_count": 64,
   "metadata": {
    "collapsed": false
   },
   "outputs": [
    {
     "data": {
      "text/plain": [
       "[1020, 1030, -1, 1]"
      ]
     },
     "execution_count": 64,
     "metadata": {},
     "output_type": "execute_result"
    },
    {
     "data": {
      "image/png": "[encoded data removed]",
      "text/plain": [
       "<matplotlib.figure.Figure at 0x10d5a8d50>"
      ]
     },
     "metadata": {},
     "output_type": "display_data"
    }
   ],
   "source": [
    "y = np.array(steps)\n",
    "fy = f(y)\n",
    "plt.plot(x, f(x), 'b-', y, fy, 'ko')\n",
    "plt.grid(True)\n",
    "plt.axis([1020 ,1030,-1,1])"
   ]
  },
  {
   "cell_type": "markdown",
   "metadata": {
    "collapsed": true
   },
   "source": [
    "# Método da Falsa Posição (slides)\n",
    "##Definição\n",
    "Data uma função $f(x)$ contínua no intervalo $[a,b]$ onde existe uma raiz única, é possível determinar tal raiz a partir de subdivisões sucessivas do intervalo que a contém, substituindo $f(x)$ no intervalo $[a,b]$ de cada iteração por uma reta e tomando como aproximação da raiz a intersecção da reta com o eixo das abscissaas.\n",
    "\n",
    "##Idéia\n",
    "Tomar como aproximação $x$ para a raiz $\\xi$ a média ponderada dos extremos do intervalo $[a,b]$ com pesos $|f(b)|$ e $|f(a)|$ respectivamente.\n",
    "$$ x = \\frac{a|f(b)| + b|f(a)|}{|f(b)| + |f(a)|} $$\n",
    "Desta forma, $x$ estará mais próximo do extremo cuja imagem for menor.\n",
    "\n",
    "Simplificação:\n",
    "$$ x = \\frac{af(b)-bf(a)}{f(b) - f(a)} $$\n",
    "\n",
    "## Implementação\n",
    "Como já vimos no exemplo acima a função tem uma raiz real no intervalo $[1,2]$\n",
    "#### Condições de aplicação\n",
    "* $ f(a)*f(b) < 0 $\n",
    "* Sinal da derivada _constante_\n",
    "\n",
    "#### Definição dos subintervalos\n",
    "* Divide o intervalo pelo ponto de intersecção da reta que liga $f(a)$ a $f(b)$ e o eixo das abscissas.\n",
    "* Verifica-se se $x_1$ é uma aproximação da raiz da equação $(\\xi)$\n",
    "  * Se verdadeiro $\\Rightarrow x_1$ é a _raiz_ procurada.\n",
    "  * Caso contrário $\\Rightarrow$ define-se um novo intervalo.\n",
    "\n",
    "#### Definição do novo intervalo\n",
    "* Determina-se em qual dos subintervalos, $[a_0, x_1]$ ou $[x_1, b_0]$, se encontra a raiz $\\xi$.\n",
    "  * Calcula-se o produto $f(a)*f(x_1)$.\n",
    "  * Verifica se $f(a)*f(x_1) < 0$.\n",
    "    * Se verdadeiro $\\rightarrow \\xi \\in (a_0, x_1)$, logo, $a_1 = a_0$ e $b_1 = x_1$\n",
    "    * Caso contrário $\\rightarrow \\xi \\in (x_1, b_1)$, logo, $a_1 = x_1$ e $b_1 = b_0$\n",
    "* Repete-se o processo até que o valor de $x$ anteda às condições de parada.\n",
    "\n",
    "#### Condições de parada\n",
    "* Se os valores fossem exatos\n",
    "  * $f(x) = 0$\n",
    "  * $(x_k - x_{k+1})/x_k = 0$"
   ]
  },
  {
   "cell_type": "code",
   "execution_count": 58,
   "metadata": {
    "collapsed": false
   },
   "outputs": [
    {
     "name": "stdout",
     "output_type": "stream",
     "text": [
      "A raiz é:  1027.86092988 . O número de interações foi de  6\n"
     ]
    }
   ],
   "source": [
    "def false_position(a, b, tolerancia):\n",
    "    steps = []\n",
    "    \n",
    "    # verifica se atende à primeira condição\n",
    "    if(f(a) * f(b) > 0.0):\n",
    "        return None\n",
    "    \n",
    "    x0 = a\n",
    "    x = ( (a * f(b)) - (b * f(a)) ) / ( f(b) - f(a) )\n",
    "    steps.append(x)\n",
    "    \n",
    "    while( mod((x-x0)/x) > tolerancia or mod(f(x)) > tolerancia ):\n",
    "        if ( f(a) * f(x) < 0 ):\n",
    "            b = x\n",
    "        else:\n",
    "            a = x\n",
    "        x0 = x\n",
    "        x = ( (a * f(b)) - (b * f(a)) ) / ( f(b) - f(a) )\n",
    "        steps.append(x)\n",
    "    \n",
    "    return x, steps\n",
    "\n",
    "resultado, steps = false_position(a, b, tolerancia)\n",
    "print \"A raiz é: \", resultado, \". O número de interações foi de \", len(steps)"
   ]
  },
  {
   "cell_type": "markdown",
   "metadata": {},
   "source": [
    "Com a raiz real da função no intervalo dado definida, podemos plotar os passsos da função"
   ]
  },
  {
   "cell_type": "code",
   "execution_count": 63,
   "metadata": {
    "collapsed": false
   },
   "outputs": [
    {
     "data": {
      "text/plain": [
       "[1026, 1030, -1, 1]"
      ]
     },
     "execution_count": 63,
     "metadata": {},
     "output_type": "execute_result"
    },
    {
     "data": {
      "image/png": "[encoded data removed]",
      "text/plain": [
       "<matplotlib.figure.Figure at 0x10d514310>"
      ]
     },
     "metadata": {},
     "output_type": "display_data"
    }
   ],
   "source": [
    "y = np.array(steps)\n",
    "fy = f(y)\n",
    "plt.plot(x, f(x), 'b-', y, fy, 'ko')\n",
    "plt.grid(True)\n",
    "plt.axis([1026 ,1030,-1,1])"
   ]
  },
  {
   "cell_type": "markdown",
   "metadata": {},
   "source": [
    "## Método de Newton Hampson\n",
    "Método onde é possível encontrar uma aproximação de tal raiz a partir da interseção da tangente à curva em um ponto $x_0$ com o eixo das abscissas.\n",
    "\n",
    "$x_0$ atribuído em função da geometria do método e do comportamento da curva da equação nas proximidades da raiz.\n",
    "\n",
    "#### Considerações\n",
    "**Método do Ponto Fixo(MPF)**\n",
    "* Uma das condições de convergência é que $\\mid g'(x)\\mid < 1  \\forall  x \\in [a,b]$ centrado na raiz.\n",
    "* Quanto menor for $|g1(x)|$, mais rápida será a convergência\n",
    "\n",
    "**O método de Newton-Raphson busca garantir e acelerar a convergência do MPF**\n",
    "\n",
    "Então, dada a equação $f(x) = 0$ e partindo da forma geral para $\\phi(x)$, queremos obter a função $A(x) \\mid \\phi'(x) = 0$\n",
    "    $$ \\phi(x) = x + A(x)f(x) \\Rightarrow \\\\\n",
    "       \\Rightarrow \\phi'(x) = 1 + A'(x)f(x) + A(x)f'(x) \\\\\n",
    "       \\Rightarrow \\phi'(x) = 1 + A'(\\xi)f(\\xi) + A(\\xi)f'(\\xi) \\Rightarrow \\phi'(\\xi) = 1 + A(\\xi)f'(\\xi)\n",
    "    $$\n",
    "\n",
    "Assim, $\\phi'(\\xi) = 0 \\Leftrightarrow 1 + A(\\xi)f'(\\xi) = 0 \\Rightarrow A(\\xi) = \\frac{-1}{f('\\xi)}$, de onde tomamos $A(x) = \\frac{-1}{f'(x)}$.\n",
    "\n",
    "\n",
    "Então, dada $f(x)$, a função de iteração $\\phi(x) = x - \\frac{f(x)}{f'(x)}$ será tal que $\\phi'(\\xi) = 0$, pois, como podemos verificar:\n",
    "$$ \\phi'(x) = 1 - \\frac{[f'(x)]^2 - f(x)f''(x)}{[f'(x)]^2} = \\frac{f(x)f''(x)}{[f'(x)]^2} $$\n",
    "\n",
    "e, como $f(\\xi) = 0, \\phi'(\\xi) = 0$ (desde que $f'(\\xi) \\neq 0$).\n",
    "\n",
    "Assim, escolhido $x_0$, a sequencia $\\{x_k\\}$ será determinada por $ x_{k+1} = x_k - \\frac{f(x_k)}{f'(x_k)}$, $k = 0,1,2,...$\n"
   ]
  },
  {
   "cell_type": "code",
   "execution_count": 68,
   "metadata": {
    "collapsed": false
   },
   "outputs": [
    {
     "ename": "OverflowError",
     "evalue": "(34, 'Result too large')",
     "output_type": "error",
     "traceback": [
      "\u001b[0;31m---------------------------------------------------------------------------\u001b[0m",
      "\u001b[0;31mOverflowError\u001b[0m                             Traceback (most recent call last)",
      "\u001b[0;32m<ipython-input-68-a046c06cd0d0>\u001b[0m in \u001b[0;36m<module>\u001b[0;34m()\u001b[0m\n\u001b[1;32m     13\u001b[0m     \u001b[0;32mreturn\u001b[0m \u001b[0mx1\u001b[0m\u001b[0;34m,\u001b[0m \u001b[0msteps\u001b[0m\u001b[0;34m\u001b[0m\u001b[0m\n\u001b[1;32m     14\u001b[0m \u001b[0;34m\u001b[0m\u001b[0m\n\u001b[0;32m---> 15\u001b[0;31m \u001b[0mresultado\u001b[0m\u001b[0;34m,\u001b[0m \u001b[0msteps\u001b[0m \u001b[0;34m=\u001b[0m \u001b[0mnewton\u001b[0m\u001b[0;34m(\u001b[0m\u001b[0mx0\u001b[0m\u001b[0;34m,\u001b[0m \u001b[0mtolerancia\u001b[0m\u001b[0;34m)\u001b[0m\u001b[0;34m\u001b[0m\u001b[0m\n\u001b[0m\u001b[1;32m     16\u001b[0m \u001b[0;32mprint\u001b[0m \u001b[0;34m\"A raiz é: \"\u001b[0m\u001b[0;34m,\u001b[0m \u001b[0mresultado\u001b[0m\u001b[0;34m\u001b[0m\u001b[0m\n",
      "\u001b[0;32m<ipython-input-68-a046c06cd0d0>\u001b[0m in \u001b[0;36mnewton\u001b[0;34m(x0, tolerancia)\u001b[0m\n\u001b[1;32m      9\u001b[0m     \u001b[0;32mwhile\u001b[0m \u001b[0mmod\u001b[0m\u001b[0;34m(\u001b[0m\u001b[0mx1\u001b[0m\u001b[0;34m-\u001b[0m\u001b[0mx0\u001b[0m\u001b[0;34m)\u001b[0m \u001b[0;34m>\u001b[0m \u001b[0mtolerancia\u001b[0m \u001b[0;34m:\u001b[0m\u001b[0;34m\u001b[0m\u001b[0m\n\u001b[1;32m     10\u001b[0m         \u001b[0mx0\u001b[0m \u001b[0;34m=\u001b[0m \u001b[0mx1\u001b[0m\u001b[0;34m\u001b[0m\u001b[0m\n\u001b[0;32m---> 11\u001b[0;31m         \u001b[0mx1\u001b[0m \u001b[0;34m=\u001b[0m \u001b[0mx0\u001b[0m \u001b[0;34m-\u001b[0m \u001b[0;34m(\u001b[0m\u001b[0mf\u001b[0m\u001b[0;34m(\u001b[0m\u001b[0mx0\u001b[0m\u001b[0;34m)\u001b[0m\u001b[0;34m/\u001b[0m\u001b[0mDf\u001b[0m\u001b[0;34m(\u001b[0m\u001b[0mx0\u001b[0m\u001b[0;34m)\u001b[0m\u001b[0;34m)\u001b[0m\u001b[0;34m\u001b[0m\u001b[0m\n\u001b[0m\u001b[1;32m     12\u001b[0m         \u001b[0msteps\u001b[0m\u001b[0;34m.\u001b[0m\u001b[0mappend\u001b[0m\u001b[0;34m(\u001b[0m\u001b[0mx1\u001b[0m\u001b[0;34m)\u001b[0m\u001b[0;34m\u001b[0m\u001b[0m\n\u001b[1;32m     13\u001b[0m     \u001b[0;32mreturn\u001b[0m \u001b[0mx1\u001b[0m\u001b[0;34m,\u001b[0m \u001b[0msteps\u001b[0m\u001b[0;34m\u001b[0m\u001b[0m\n",
      "\u001b[0;32m<ipython-input-68-a046c06cd0d0>\u001b[0m in \u001b[0;36m<lambda>\u001b[0;34m(T)\u001b[0m\n\u001b[1;32m      1\u001b[0m \u001b[0mx0\u001b[0m \u001b[0;34m=\u001b[0m \u001b[0;36m800\u001b[0m\u001b[0;34m\u001b[0m\u001b[0m\n\u001b[0;32m----> 2\u001b[0;31m \u001b[0mDf\u001b[0m \u001b[0;34m=\u001b[0m \u001b[0;32mlambda\u001b[0m \u001b[0mT\u001b[0m\u001b[0;34m:\u001b[0m \u001b[0;34m(\u001b[0m\u001b[0;36m80002\u001b[0m\u001b[0;34m-\u001b[0m\u001b[0;36m0.001\u001b[0m\u001b[0;34m*\u001b[0m\u001b[0mT\u001b[0m\u001b[0;34m)\u001b[0m\u001b[0;34m/\u001b[0m\u001b[0mT\u001b[0m\u001b[0;34m**\u001b[0m\u001b[0;36m3\u001b[0m\u001b[0;34m\u001b[0m\u001b[0m\n\u001b[0m\u001b[1;32m      3\u001b[0m \u001b[0;34m\u001b[0m\u001b[0m\n\u001b[1;32m      4\u001b[0m \u001b[0;32mdef\u001b[0m \u001b[0mnewton\u001b[0m\u001b[0;34m(\u001b[0m \u001b[0mx0\u001b[0m\u001b[0;34m,\u001b[0m \u001b[0mtolerancia\u001b[0m \u001b[0;34m)\u001b[0m\u001b[0;34m:\u001b[0m\u001b[0;34m\u001b[0m\u001b[0m\n\u001b[1;32m      5\u001b[0m     \u001b[0msteps\u001b[0m \u001b[0;34m=\u001b[0m \u001b[0;34m[\u001b[0m\u001b[0;34m]\u001b[0m\u001b[0;34m\u001b[0m\u001b[0m\n",
      "\u001b[0;31mOverflowError\u001b[0m: (34, 'Result too large')"
     ]
    }
   ],
   "source": [
    "x0 = 800\n",
    "Df = lambda T: (80002-0.001*T)/T**3\n",
    "\n",
    "def newton( x0, tolerancia ):\n",
    "    steps = []\n",
    "    \n",
    "    x1 = x0 - (f(x0)/Df(x0))\n",
    "    steps.append(x1)\n",
    "    while mod(x1-x0) > tolerancia :\n",
    "        x0 = x1\n",
    "        x1 = x0 - (f(x0)/Df(x0))\n",
    "        steps.append(x1)\n",
    "    return x1, steps\n",
    "\n",
    "resultado, steps = newton(x0, tolerancia)\n",
    "print \"A raiz é: \", resultado"
   ]
  },
  {
   "cell_type": "markdown",
   "metadata": {},
   "source": [
    "## Método da Secante"
   ]
  },
  {
   "cell_type": "markdown",
   "metadata": {},
   "source": [
    "### Motivação\n",
    "Uma grande desvantagem do método de Newton é ter que calcular a derivada e seu valor numérico em todas as interações. \n",
    "\n",
    "### Modelo matemático\n",
    "Para contornar este problema foi desenvolvido um método linear baseado nos dois valores calculados mais recentemente.\n",
    "$$ f'(x_n) \\approx \\frac{f(x_n)-f(x_{n-1})}{x_n - x_{n-1}} $$\n",
    "onde $x_n$ e $x_{n-1}$ são duas aproximações para a raiz.\n",
    "\n",
    "Substituindo a função acima em \n",
    "$$ x_{n+1} = x_n - \\frac{f(x)}{f'(x)} $$\n",
    "\n",
    "Temos:\n",
    "$$ x_{n+1} = x_n  - \\frac{(x_n - x_{n-1}) f(x_n) }{ f(x_n) -f(x_{n-1}) } $$\n",
    ", para $n=1,2,3$\n",
    "\n",
    "Quando aplicado desta forma o método de newton é conhecido como o **método das secantes**"
   ]
  },
  {
   "cell_type": "code",
   "execution_count": 70,
   "metadata": {
    "collapsed": false
   },
   "outputs": [
    {
     "name": "stdout",
     "output_type": "stream",
     "text": [
      "x =  1027.86092975 Iterações:  25\n"
     ]
    }
   ],
   "source": [
    "def secante( xn, xn1, tolerancia ):\n",
    "    steps = []\n",
    "    \n",
    "    x = xn - ((xn-xn1)*f(xn))/(f(xn)-f(xn1))\n",
    "    \n",
    "    steps.append(x)\n",
    "    while mod(x-xn) > tolerancia:\n",
    "        xn1 = xn\n",
    "        xn = x\n",
    "        x = xn - ((xn-xn1)*f(xn))/(f(xn)-f(xn1))\n",
    "        steps.append(x)\n",
    "    return x, steps\n",
    "\n",
    "resultado, steps = secante(1, 2, tolerancia)\n",
    "print \"x = \", resultado, \"Iterações: \", len(steps)\n",
    "\n"
   ]
  },
  {
   "cell_type": "markdown",
   "metadata": {},
   "source": [
    "## Referências\n",
    "* Wikipedia,. Machine epsilon. Disponível em: <https://en.wikipedia.org/wiki/Machine_epsilon>. Acesso em: jul. 2015. \n",
    "* Cálculo Numérico, Aspectos Teóricos e Computacionais - 2 Edição - Márcia A. Gomes Ruggiero e Vera Lúcia da Rocha Lopes\n",
    "* Análise Numérica do Método de Newton para Obtenção de Zeros de Funções Reais. Disponível em: <http://www.pucpr.br/eventos/educere/educere2004/anaisEvento/Documentos/CI/TC-CI0034.pdf>. Acesso em: jul. 2015. \n",
    "* Ruggiero, M.; Lopes, V. Cálculo numérico. Traducao . São Paulo: Makron Books, 1996. \n",
    "\n",
    "#### Consultar mais tarde:\n",
    "* https://code.google.com/p/mpmath/wiki/Performance\n",
    "* http://stackoverflow.com/questions/12311020/python-flops-calculation\n",
    "* http://stackoverflow.com/questions/1593019/is-there-any-simple-way-to-benchmark-python-script\n",
    "* http://www.huyng.com/posts/python-performance-analysis/\n"
   ]
  }
 ],
 "metadata": {
  "kernelspec": {
   "display_name": "Python 2",
   "language": "python",
   "name": "python2"
  },
  "language_info": {
   "codemirror_mode": {
    "name": "ipython",
    "version": 2
   },
   "file_extension": ".py",
   "mimetype": "text/x-python",
   "name": "python",
   "nbconvert_exporter": "python",
   "pygments_lexer": "ipython2",
   "version": "2.7.5"
  }
 },
 "nbformat": 4,
 "nbformat_minor": 0
}
